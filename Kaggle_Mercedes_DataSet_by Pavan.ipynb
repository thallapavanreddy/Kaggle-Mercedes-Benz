{
 "cells": [
  {
   "cell_type": "code",
   "execution_count": 162,
   "metadata": {},
   "outputs": [],
   "source": [
    "import numpy as np\n",
    "import pandas as pd\n",
    "import matplotlib.pyplot as plt\n",
    "%matplotlib inline\n",
    "\n",
    "import scipy.stats as stats\n",
    "from scipy.stats import randint\n",
    "\n",
    "import warnings\n",
    "warnings.filterwarnings('ignore')\n",
    "\n",
    "pd.set_option('display.max_columns', 1600)\n",
    "pd.set_option('display.max_rows', 1600)\n",
    "\n",
    "from sklearn.model_selection import train_test_split\n",
    "from sklearn.preprocessing import LabelEncoder, MinMaxScaler\n",
    "\n",
    "from sklearn.decomposition import PCA\n",
    "\n",
    "from sklearn.linear_model import LinearRegression, SGDRegressor\n",
    "from sklearn.tree import DecisionTreeRegressor\n",
    "from sklearn.ensemble import RandomForestRegressor, BaggingRegressor, AdaBoostRegressor, GradientBoostingRegressor\n",
    "from sklearn.neighbors import KNeighborsRegressor\n",
    "from sklearn.svm import SVR\n",
    "\n",
    "from sklearn.model_selection import GridSearchCV, RandomizedSearchCV, cross_val_score, StratifiedKFold\n",
    "\n",
    "from sklearn.metrics import r2_score, mean_squared_error, make_scorer"
   ]
  },
  {
   "cell_type": "code",
   "execution_count": 98,
   "metadata": {},
   "outputs": [],
   "source": [
    "df = pd.read_csv(\"Mercedes.csv\")"
   ]
  },
  {
   "cell_type": "code",
   "execution_count": 99,
   "metadata": {},
   "outputs": [
    {
     "data": {
      "text/plain": [
       "<matplotlib.collections.PathCollection at 0x2485c23f2c8>"
      ]
     },
     "execution_count": 99,
     "metadata": {},
     "output_type": "execute_result"
    },
    {
     "data": {
      "image/png": "[encoded data removed]",
      "text/plain": [
       "<Figure size 432x288 with 1 Axes>"
      ]
     },
     "metadata": {
      "needs_background": "light"
     },
     "output_type": "display_data"
    }
   ],
   "source": [
    "plt.scatter(df['y'], df['ID'])"
   ]
  },
  {
   "cell_type": "code",
   "execution_count": 100,
   "metadata": {},
   "outputs": [],
   "source": [
    "df = df[df['y']<150]"
   ]
  },
  {
   "cell_type": "code",
   "execution_count": 101,
   "metadata": {},
   "outputs": [],
   "source": [
    "# Colum names, Missing values count, Missing values percentage in DataFrame\n",
    "missing_val_df = pd.DataFrame({\n",
    "    'name': df.columns,\n",
    "    'mcount': df.isna().sum(),\n",
    "    'mpercentage': df.isnull().sum()/df.shape[0]*100\n",
    "})\n",
    "\n",
    "#missing_val_df.to_csv(\"missing_values.csv\", index=False)\n",
    "#missing_val_df.sort_values(by='mpercentage', ascending=False)"
   ]
  },
  {
   "cell_type": "code",
   "execution_count": 102,
   "metadata": {},
   "outputs": [],
   "source": [
    "y = df.iloc[:,1]"
   ]
  },
  {
   "cell_type": "code",
   "execution_count": 103,
   "metadata": {},
   "outputs": [],
   "source": [
    "y = np.log(y)"
   ]
  },
  {
   "cell_type": "code",
   "execution_count": 104,
   "metadata": {},
   "outputs": [],
   "source": [
    "X = df.iloc[:, 2:]"
   ]
  },
  {
   "cell_type": "code",
   "execution_count": 105,
   "metadata": {},
   "outputs": [
    {
     "data": {
      "text/plain": [
       "(4194, 376)"
      ]
     },
     "execution_count": 105,
     "metadata": {},
     "output_type": "execute_result"
    }
   ],
   "source": [
    "X.shape"
   ]
  },
  {
   "cell_type": "code",
   "execution_count": 106,
   "metadata": {},
   "outputs": [
    {
     "name": "stdout",
     "output_type": "stream",
     "text": [
      "13\n"
     ]
    }
   ],
   "source": [
    "uniqeCol = []\n",
    "for col in X.columns:\n",
    "    if X[col].nunique() == 1:\n",
    "        uniqeCol.append(col)\n",
    "        X.drop(columns=col, inplace=True)\n",
    "print(len(uniqeCol))"
   ]
  },
  {
   "cell_type": "code",
   "execution_count": 107,
   "metadata": {},
   "outputs": [
    {
     "data": {
      "text/plain": [
       "(4194, 363)"
      ]
     },
     "execution_count": 107,
     "metadata": {},
     "output_type": "execute_result"
    }
   ],
   "source": [
    "X.shape"
   ]
  },
  {
   "cell_type": "code",
   "execution_count": 108,
   "metadata": {},
   "outputs": [
    {
     "name": "stdout",
     "output_type": "stream",
     "text": [
      "<class 'pandas.core.frame.DataFrame'>\n",
      "Int64Index: 4194 entries, 0 to 4208\n",
      "Columns: 363 entries, X0 to X385\n",
      "dtypes: int64(355), object(8)\n",
      "memory usage: 11.6+ MB\n"
     ]
    }
   ],
   "source": [
    "X.info()"
   ]
  },
  {
   "cell_type": "code",
   "execution_count": null,
   "metadata": {},
   "outputs": [],
   "source": []
  },
  {
   "cell_type": "code",
   "execution_count": 109,
   "metadata": {},
   "outputs": [],
   "source": [
    "X_train, X_test, y_train, y_test = train_test_split(X, y, test_size=0.2, random_state=42)"
   ]
  },
  {
   "cell_type": "code",
   "execution_count": null,
   "metadata": {},
   "outputs": [],
   "source": []
  },
  {
   "cell_type": "code",
   "execution_count": 110,
   "metadata": {},
   "outputs": [
    {
     "name": "stdout",
     "output_type": "stream",
     "text": [
      "<class 'pandas.core.frame.DataFrame'>\n",
      "Int64Index: 3355 entries, 2745 to 863\n",
      "Columns: 363 entries, X0 to X385\n",
      "dtypes: int64(355), object(8)\n",
      "memory usage: 9.3+ MB\n"
     ]
    }
   ],
   "source": [
    "X_train.info()"
   ]
  },
  {
   "cell_type": "code",
   "execution_count": null,
   "metadata": {},
   "outputs": [],
   "source": []
  },
  {
   "cell_type": "code",
   "execution_count": 111,
   "metadata": {},
   "outputs": [],
   "source": [
    "class LabelEncoderExt(object):\n",
    "    def __init__(self):\n",
    "        \"\"\"\n",
    "        It differs from LabelEncoder by handling new classes and providing a value for it [Unknown]\n",
    "        Unknown will be added in fit and transform will take care of new item. It gives unknown class id\n",
    "        \"\"\"\n",
    "        self.label_encoder = LabelEncoder()\n",
    "        # self.classes_ = self.label_encoder.classes_\n",
    "\n",
    "    def fit(self, data_list):\n",
    "        \"\"\"\n",
    "        This will fit the encoder for all the unique values and introduce unknown value\n",
    "        :param data_list: A list of string\n",
    "        :return: self\n",
    "        \"\"\"\n",
    "        self.label_encoder = self.label_encoder.fit(list(data_list) + ['Unknown'])\n",
    "        self.classes_ = self.label_encoder.classes_\n",
    "\n",
    "        return self\n",
    "\n",
    "    def transform(self, data_list):\n",
    "        \"\"\"\n",
    "        This will transform the data_list to id list where the new values get assigned to Unknown class\n",
    "        :param data_list:\n",
    "        :return:\n",
    "        \"\"\"\n",
    "        new_data_list = list(data_list)\n",
    "        for unique_item in np.unique(data_list):\n",
    "            if unique_item not in self.label_encoder.classes_:\n",
    "                new_data_list = ['Unknown' if x==unique_item else x for x in new_data_list]\n",
    "\n",
    "        return self.label_encoder.transform(new_data_list)"
   ]
  },
  {
   "cell_type": "code",
   "execution_count": 112,
   "metadata": {},
   "outputs": [],
   "source": [
    "Le = LabelEncoderExt()"
   ]
  },
  {
   "cell_type": "code",
   "execution_count": 113,
   "metadata": {},
   "outputs": [],
   "source": [
    "for col in X_train.columns:\n",
    "    if X_train[col].dtype == 'object':\n",
    "        Le.fit(X_train[col])\n",
    "        X_train[col] = Le.transform(X_train[col])\n",
    "        X_test[col] = Le.transform(X_test[col])"
   ]
  },
  {
   "cell_type": "code",
   "execution_count": 114,
   "metadata": {},
   "outputs": [],
   "source": [
    "# perform PCA\n",
    "pca = PCA()\n",
    "X_train_pca_df = pd.DataFrame(pca.fit_transform(X_train))"
   ]
  },
  {
   "cell_type": "code",
   "execution_count": 115,
   "metadata": {},
   "outputs": [],
   "source": [
    "#pca.explained_variance_\n",
    "#pca.explained_variance_ratio_"
   ]
  },
  {
   "cell_type": "code",
   "execution_count": 116,
   "metadata": {},
   "outputs": [
    {
     "data": {
      "text/plain": [
       "Text(0, 0.5, 'Explained veriance ratio')"
      ]
     },
     "execution_count": 116,
     "metadata": {},
     "output_type": "execute_result"
    },
    {
     "data": {
      "image/png": "[encoded data removed]",
      "text/plain": [
       "<Figure size 864x864 with 1 Axes>"
      ]
     },
     "metadata": {
      "needs_background": "light"
     },
     "output_type": "display_data"
    }
   ],
   "source": [
    "plt.figure(figsize=(12,12))\n",
    "plt.plot(np.cumsum(pca.explained_variance_ratio_))\n",
    "plt.xlabel(\"Number of Principal Components\")\n",
    "plt.ylabel(\"Explained veriance ratio\")"
   ]
  },
  {
   "cell_type": "code",
   "execution_count": null,
   "metadata": {},
   "outputs": [],
   "source": []
  },
  {
   "cell_type": "code",
   "execution_count": 117,
   "metadata": {},
   "outputs": [],
   "source": [
    "pca1 = PCA(n_components=45)"
   ]
  },
  {
   "cell_type": "code",
   "execution_count": 118,
   "metadata": {},
   "outputs": [],
   "source": [
    "X_train_pca_df = pd.DataFrame(pca1.fit_transform(X_train), columns=list(range(0,45)))\n",
    "X_test_pca_df =  pd.DataFrame(pca1.transform(X_test))"
   ]
  },
  {
   "cell_type": "code",
   "execution_count": 119,
   "metadata": {},
   "outputs": [
    {
     "data": {
      "text/html": [
       "<div>\n",
       "<style scoped>\n",
       "    .dataframe tbody tr th:only-of-type {\n",
       "        vertical-align: middle;\n",
       "    }\n",
       "\n",
       "    .dataframe tbody tr th {\n",
       "        vertical-align: top;\n",
       "    }\n",
       "\n",
       "    .dataframe thead th {\n",
       "        text-align: right;\n",
       "    }\n",
       "</style>\n",
       "<table border=\"1\" class=\"dataframe\">\n",
       "  <thead>\n",
       "    <tr style=\"text-align: right;\">\n",
       "      <th></th>\n",
       "      <th>0</th>\n",
       "      <th>1</th>\n",
       "      <th>2</th>\n",
       "      <th>3</th>\n",
       "      <th>4</th>\n",
       "      <th>5</th>\n",
       "      <th>6</th>\n",
       "      <th>7</th>\n",
       "      <th>8</th>\n",
       "      <th>9</th>\n",
       "      <th>10</th>\n",
       "      <th>11</th>\n",
       "      <th>12</th>\n",
       "      <th>13</th>\n",
       "      <th>14</th>\n",
       "      <th>15</th>\n",
       "      <th>16</th>\n",
       "      <th>17</th>\n",
       "      <th>18</th>\n",
       "      <th>19</th>\n",
       "      <th>20</th>\n",
       "      <th>21</th>\n",
       "      <th>22</th>\n",
       "      <th>23</th>\n",
       "      <th>24</th>\n",
       "      <th>25</th>\n",
       "      <th>26</th>\n",
       "      <th>27</th>\n",
       "      <th>28</th>\n",
       "      <th>29</th>\n",
       "      <th>30</th>\n",
       "      <th>31</th>\n",
       "      <th>32</th>\n",
       "      <th>33</th>\n",
       "      <th>34</th>\n",
       "      <th>35</th>\n",
       "      <th>36</th>\n",
       "      <th>37</th>\n",
       "      <th>38</th>\n",
       "      <th>39</th>\n",
       "      <th>40</th>\n",
       "      <th>41</th>\n",
       "      <th>42</th>\n",
       "      <th>43</th>\n",
       "      <th>44</th>\n",
       "    </tr>\n",
       "  </thead>\n",
       "  <tbody>\n",
       "    <tr>\n",
       "      <td>0</td>\n",
       "      <td>-1.544289</td>\n",
       "      <td>-0.824992</td>\n",
       "      <td>2.843841</td>\n",
       "      <td>-2.544883</td>\n",
       "      <td>1.313584</td>\n",
       "      <td>-4.510989</td>\n",
       "      <td>1.497924</td>\n",
       "      <td>-1.848113</td>\n",
       "      <td>2.373872</td>\n",
       "      <td>-0.227971</td>\n",
       "      <td>-1.036275</td>\n",
       "      <td>-0.539821</td>\n",
       "      <td>-0.364789</td>\n",
       "      <td>-0.873245</td>\n",
       "      <td>1.028270</td>\n",
       "      <td>0.284276</td>\n",
       "      <td>0.087572</td>\n",
       "      <td>0.058755</td>\n",
       "      <td>0.663960</td>\n",
       "      <td>-1.168575</td>\n",
       "      <td>-0.508609</td>\n",
       "      <td>0.590425</td>\n",
       "      <td>-0.746908</td>\n",
       "      <td>-0.419889</td>\n",
       "      <td>0.270636</td>\n",
       "      <td>0.157029</td>\n",
       "      <td>-0.098002</td>\n",
       "      <td>0.130397</td>\n",
       "      <td>0.328758</td>\n",
       "      <td>0.172485</td>\n",
       "      <td>0.265257</td>\n",
       "      <td>0.549017</td>\n",
       "      <td>-0.145111</td>\n",
       "      <td>-0.081533</td>\n",
       "      <td>0.217230</td>\n",
       "      <td>-0.029116</td>\n",
       "      <td>-0.072583</td>\n",
       "      <td>-0.152087</td>\n",
       "      <td>-0.228441</td>\n",
       "      <td>-0.159620</td>\n",
       "      <td>-0.102335</td>\n",
       "      <td>0.130208</td>\n",
       "      <td>-0.020124</td>\n",
       "      <td>-0.176160</td>\n",
       "      <td>0.182580</td>\n",
       "    </tr>\n",
       "    <tr>\n",
       "      <td>1</td>\n",
       "      <td>-9.959137</td>\n",
       "      <td>2.312521</td>\n",
       "      <td>-5.690243</td>\n",
       "      <td>16.131003</td>\n",
       "      <td>-4.432750</td>\n",
       "      <td>-2.355228</td>\n",
       "      <td>-0.752267</td>\n",
       "      <td>-2.927850</td>\n",
       "      <td>-0.955590</td>\n",
       "      <td>0.079541</td>\n",
       "      <td>-0.124049</td>\n",
       "      <td>0.271745</td>\n",
       "      <td>-0.429909</td>\n",
       "      <td>-0.377660</td>\n",
       "      <td>0.436714</td>\n",
       "      <td>0.157337</td>\n",
       "      <td>-0.939837</td>\n",
       "      <td>0.660518</td>\n",
       "      <td>0.523079</td>\n",
       "      <td>-0.391293</td>\n",
       "      <td>0.715742</td>\n",
       "      <td>-0.990164</td>\n",
       "      <td>0.508792</td>\n",
       "      <td>-0.129086</td>\n",
       "      <td>0.261061</td>\n",
       "      <td>-0.515424</td>\n",
       "      <td>-0.066966</td>\n",
       "      <td>-0.263788</td>\n",
       "      <td>-0.049874</td>\n",
       "      <td>-0.261616</td>\n",
       "      <td>0.103626</td>\n",
       "      <td>-0.282623</td>\n",
       "      <td>-0.308384</td>\n",
       "      <td>-0.085651</td>\n",
       "      <td>-0.398509</td>\n",
       "      <td>0.038522</td>\n",
       "      <td>0.362366</td>\n",
       "      <td>-0.057959</td>\n",
       "      <td>-0.335482</td>\n",
       "      <td>-0.068959</td>\n",
       "      <td>-0.203547</td>\n",
       "      <td>0.167375</td>\n",
       "      <td>-0.059329</td>\n",
       "      <td>-0.043762</td>\n",
       "      <td>0.087622</td>\n",
       "    </tr>\n",
       "    <tr>\n",
       "      <td>2</td>\n",
       "      <td>2.638594</td>\n",
       "      <td>-1.888735</td>\n",
       "      <td>6.522407</td>\n",
       "      <td>-14.471979</td>\n",
       "      <td>-7.173325</td>\n",
       "      <td>-2.281573</td>\n",
       "      <td>0.788575</td>\n",
       "      <td>-1.923893</td>\n",
       "      <td>1.651099</td>\n",
       "      <td>-0.561468</td>\n",
       "      <td>-0.534815</td>\n",
       "      <td>0.374968</td>\n",
       "      <td>-1.352893</td>\n",
       "      <td>0.309197</td>\n",
       "      <td>-0.471445</td>\n",
       "      <td>0.084420</td>\n",
       "      <td>-0.212422</td>\n",
       "      <td>-0.024082</td>\n",
       "      <td>-0.304529</td>\n",
       "      <td>0.294787</td>\n",
       "      <td>1.086411</td>\n",
       "      <td>-0.627664</td>\n",
       "      <td>0.396498</td>\n",
       "      <td>0.138865</td>\n",
       "      <td>-0.196387</td>\n",
       "      <td>-0.535898</td>\n",
       "      <td>0.735128</td>\n",
       "      <td>0.303894</td>\n",
       "      <td>-0.492485</td>\n",
       "      <td>-0.880517</td>\n",
       "      <td>0.149027</td>\n",
       "      <td>-0.199209</td>\n",
       "      <td>0.132673</td>\n",
       "      <td>0.216160</td>\n",
       "      <td>-0.168315</td>\n",
       "      <td>-0.335381</td>\n",
       "      <td>-0.156473</td>\n",
       "      <td>0.382928</td>\n",
       "      <td>0.102843</td>\n",
       "      <td>-0.201060</td>\n",
       "      <td>-0.040405</td>\n",
       "      <td>0.226012</td>\n",
       "      <td>-0.006598</td>\n",
       "      <td>0.147990</td>\n",
       "      <td>-0.390312</td>\n",
       "    </tr>\n",
       "    <tr>\n",
       "      <td>3</td>\n",
       "      <td>28.545711</td>\n",
       "      <td>14.048909</td>\n",
       "      <td>-5.890521</td>\n",
       "      <td>8.691848</td>\n",
       "      <td>-2.105240</td>\n",
       "      <td>-2.068995</td>\n",
       "      <td>1.128292</td>\n",
       "      <td>-0.324627</td>\n",
       "      <td>-0.761757</td>\n",
       "      <td>-0.789634</td>\n",
       "      <td>1.633669</td>\n",
       "      <td>-0.576225</td>\n",
       "      <td>1.355751</td>\n",
       "      <td>-0.549355</td>\n",
       "      <td>1.015349</td>\n",
       "      <td>2.146519</td>\n",
       "      <td>-0.432140</td>\n",
       "      <td>-0.589044</td>\n",
       "      <td>-0.127133</td>\n",
       "      <td>0.449501</td>\n",
       "      <td>0.197901</td>\n",
       "      <td>-0.624637</td>\n",
       "      <td>-0.059979</td>\n",
       "      <td>0.319716</td>\n",
       "      <td>0.766709</td>\n",
       "      <td>-0.512455</td>\n",
       "      <td>0.044984</td>\n",
       "      <td>0.236501</td>\n",
       "      <td>-0.246336</td>\n",
       "      <td>0.225709</td>\n",
       "      <td>-0.063760</td>\n",
       "      <td>0.491743</td>\n",
       "      <td>0.171583</td>\n",
       "      <td>-0.360778</td>\n",
       "      <td>0.471259</td>\n",
       "      <td>-0.039643</td>\n",
       "      <td>-0.038446</td>\n",
       "      <td>0.086507</td>\n",
       "      <td>0.462486</td>\n",
       "      <td>0.176038</td>\n",
       "      <td>0.263410</td>\n",
       "      <td>-0.091008</td>\n",
       "      <td>0.009368</td>\n",
       "      <td>0.395739</td>\n",
       "      <td>-0.456148</td>\n",
       "    </tr>\n",
       "    <tr>\n",
       "      <td>4</td>\n",
       "      <td>-2.263481</td>\n",
       "      <td>-8.139869</td>\n",
       "      <td>11.287388</td>\n",
       "      <td>4.394998</td>\n",
       "      <td>-12.202797</td>\n",
       "      <td>0.357330</td>\n",
       "      <td>-2.664678</td>\n",
       "      <td>0.129632</td>\n",
       "      <td>-0.518654</td>\n",
       "      <td>-0.660244</td>\n",
       "      <td>0.053999</td>\n",
       "      <td>-0.402659</td>\n",
       "      <td>0.600631</td>\n",
       "      <td>-0.142732</td>\n",
       "      <td>1.218818</td>\n",
       "      <td>0.477372</td>\n",
       "      <td>-0.553137</td>\n",
       "      <td>0.146678</td>\n",
       "      <td>0.300462</td>\n",
       "      <td>0.316426</td>\n",
       "      <td>-0.650139</td>\n",
       "      <td>-1.395237</td>\n",
       "      <td>-0.994617</td>\n",
       "      <td>0.009620</td>\n",
       "      <td>-0.861662</td>\n",
       "      <td>-0.113301</td>\n",
       "      <td>0.545113</td>\n",
       "      <td>-0.169263</td>\n",
       "      <td>-0.667820</td>\n",
       "      <td>-0.386051</td>\n",
       "      <td>0.248706</td>\n",
       "      <td>0.907028</td>\n",
       "      <td>0.172684</td>\n",
       "      <td>-0.157176</td>\n",
       "      <td>0.146365</td>\n",
       "      <td>-0.297332</td>\n",
       "      <td>-0.010240</td>\n",
       "      <td>-0.572084</td>\n",
       "      <td>0.119394</td>\n",
       "      <td>-0.189261</td>\n",
       "      <td>-0.011453</td>\n",
       "      <td>0.246724</td>\n",
       "      <td>0.219450</td>\n",
       "      <td>0.428341</td>\n",
       "      <td>0.390695</td>\n",
       "    </tr>\n",
       "    <tr>\n",
       "      <td>...</td>\n",
       "      <td>...</td>\n",
       "      <td>...</td>\n",
       "      <td>...</td>\n",
       "      <td>...</td>\n",
       "      <td>...</td>\n",
       "      <td>...</td>\n",
       "      <td>...</td>\n",
       "      <td>...</td>\n",
       "      <td>...</td>\n",
       "      <td>...</td>\n",
       "      <td>...</td>\n",
       "      <td>...</td>\n",
       "      <td>...</td>\n",
       "      <td>...</td>\n",
       "      <td>...</td>\n",
       "      <td>...</td>\n",
       "      <td>...</td>\n",
       "      <td>...</td>\n",
       "      <td>...</td>\n",
       "      <td>...</td>\n",
       "      <td>...</td>\n",
       "      <td>...</td>\n",
       "      <td>...</td>\n",
       "      <td>...</td>\n",
       "      <td>...</td>\n",
       "      <td>...</td>\n",
       "      <td>...</td>\n",
       "      <td>...</td>\n",
       "      <td>...</td>\n",
       "      <td>...</td>\n",
       "      <td>...</td>\n",
       "      <td>...</td>\n",
       "      <td>...</td>\n",
       "      <td>...</td>\n",
       "      <td>...</td>\n",
       "      <td>...</td>\n",
       "      <td>...</td>\n",
       "      <td>...</td>\n",
       "      <td>...</td>\n",
       "      <td>...</td>\n",
       "      <td>...</td>\n",
       "      <td>...</td>\n",
       "      <td>...</td>\n",
       "      <td>...</td>\n",
       "      <td>...</td>\n",
       "    </tr>\n",
       "    <tr>\n",
       "      <td>3350</td>\n",
       "      <td>-14.219149</td>\n",
       "      <td>-6.974966</td>\n",
       "      <td>4.092569</td>\n",
       "      <td>-10.268049</td>\n",
       "      <td>-7.130547</td>\n",
       "      <td>0.910125</td>\n",
       "      <td>-2.759280</td>\n",
       "      <td>1.676623</td>\n",
       "      <td>-1.895373</td>\n",
       "      <td>1.155819</td>\n",
       "      <td>1.379139</td>\n",
       "      <td>-0.230294</td>\n",
       "      <td>-1.285763</td>\n",
       "      <td>-1.476808</td>\n",
       "      <td>1.656284</td>\n",
       "      <td>0.186906</td>\n",
       "      <td>0.310823</td>\n",
       "      <td>0.439519</td>\n",
       "      <td>0.061619</td>\n",
       "      <td>-0.920984</td>\n",
       "      <td>0.296011</td>\n",
       "      <td>0.566233</td>\n",
       "      <td>-0.368864</td>\n",
       "      <td>-0.128431</td>\n",
       "      <td>-0.068481</td>\n",
       "      <td>-0.224142</td>\n",
       "      <td>0.179680</td>\n",
       "      <td>-0.320702</td>\n",
       "      <td>0.290704</td>\n",
       "      <td>-0.189246</td>\n",
       "      <td>-0.444375</td>\n",
       "      <td>0.078101</td>\n",
       "      <td>0.115417</td>\n",
       "      <td>0.165679</td>\n",
       "      <td>-0.190984</td>\n",
       "      <td>-0.449885</td>\n",
       "      <td>-0.047568</td>\n",
       "      <td>0.199263</td>\n",
       "      <td>0.258690</td>\n",
       "      <td>-0.128616</td>\n",
       "      <td>-0.042459</td>\n",
       "      <td>-0.317616</td>\n",
       "      <td>-0.092272</td>\n",
       "      <td>0.016799</td>\n",
       "      <td>-0.063783</td>\n",
       "    </tr>\n",
       "    <tr>\n",
       "      <td>3351</td>\n",
       "      <td>0.552702</td>\n",
       "      <td>16.452711</td>\n",
       "      <td>0.200888</td>\n",
       "      <td>9.764205</td>\n",
       "      <td>-10.341630</td>\n",
       "      <td>-4.134721</td>\n",
       "      <td>1.136563</td>\n",
       "      <td>0.721318</td>\n",
       "      <td>-1.382320</td>\n",
       "      <td>-1.017498</td>\n",
       "      <td>0.900492</td>\n",
       "      <td>-0.738193</td>\n",
       "      <td>0.557065</td>\n",
       "      <td>0.835136</td>\n",
       "      <td>-0.345809</td>\n",
       "      <td>-0.541694</td>\n",
       "      <td>0.097207</td>\n",
       "      <td>0.850524</td>\n",
       "      <td>0.717571</td>\n",
       "      <td>0.664224</td>\n",
       "      <td>0.485868</td>\n",
       "      <td>0.492898</td>\n",
       "      <td>-0.655621</td>\n",
       "      <td>-1.137240</td>\n",
       "      <td>-0.988206</td>\n",
       "      <td>0.344255</td>\n",
       "      <td>-0.367984</td>\n",
       "      <td>0.322410</td>\n",
       "      <td>-0.858273</td>\n",
       "      <td>-0.112213</td>\n",
       "      <td>0.554333</td>\n",
       "      <td>-0.157989</td>\n",
       "      <td>0.426943</td>\n",
       "      <td>0.323402</td>\n",
       "      <td>-0.179111</td>\n",
       "      <td>-0.329133</td>\n",
       "      <td>-0.249454</td>\n",
       "      <td>-0.249699</td>\n",
       "      <td>-0.027556</td>\n",
       "      <td>0.578510</td>\n",
       "      <td>0.179776</td>\n",
       "      <td>0.015193</td>\n",
       "      <td>-0.347475</td>\n",
       "      <td>0.069571</td>\n",
       "      <td>0.076207</td>\n",
       "    </tr>\n",
       "    <tr>\n",
       "      <td>3352</td>\n",
       "      <td>-9.193261</td>\n",
       "      <td>1.516230</td>\n",
       "      <td>13.556272</td>\n",
       "      <td>9.754312</td>\n",
       "      <td>-2.245289</td>\n",
       "      <td>-1.547189</td>\n",
       "      <td>1.431038</td>\n",
       "      <td>-1.824192</td>\n",
       "      <td>-1.683107</td>\n",
       "      <td>1.508861</td>\n",
       "      <td>-0.261283</td>\n",
       "      <td>0.912092</td>\n",
       "      <td>-1.048901</td>\n",
       "      <td>0.129092</td>\n",
       "      <td>-0.224621</td>\n",
       "      <td>-0.201628</td>\n",
       "      <td>-0.797789</td>\n",
       "      <td>0.618327</td>\n",
       "      <td>1.719758</td>\n",
       "      <td>1.389927</td>\n",
       "      <td>-0.084604</td>\n",
       "      <td>-0.321313</td>\n",
       "      <td>0.942550</td>\n",
       "      <td>0.510260</td>\n",
       "      <td>-0.626927</td>\n",
       "      <td>-0.090412</td>\n",
       "      <td>-0.782680</td>\n",
       "      <td>0.023509</td>\n",
       "      <td>0.693986</td>\n",
       "      <td>0.383434</td>\n",
       "      <td>0.467984</td>\n",
       "      <td>0.247367</td>\n",
       "      <td>-0.362615</td>\n",
       "      <td>0.148680</td>\n",
       "      <td>0.450915</td>\n",
       "      <td>0.532167</td>\n",
       "      <td>0.193929</td>\n",
       "      <td>0.364556</td>\n",
       "      <td>0.152976</td>\n",
       "      <td>-0.733420</td>\n",
       "      <td>-0.198873</td>\n",
       "      <td>0.150332</td>\n",
       "      <td>0.631933</td>\n",
       "      <td>-0.337254</td>\n",
       "      <td>-0.633653</td>\n",
       "    </tr>\n",
       "    <tr>\n",
       "      <td>3353</td>\n",
       "      <td>-14.002240</td>\n",
       "      <td>11.481141</td>\n",
       "      <td>10.546388</td>\n",
       "      <td>-5.651545</td>\n",
       "      <td>-2.751973</td>\n",
       "      <td>-1.785202</td>\n",
       "      <td>-1.588163</td>\n",
       "      <td>-0.468043</td>\n",
       "      <td>-0.513397</td>\n",
       "      <td>-0.286633</td>\n",
       "      <td>-0.127733</td>\n",
       "      <td>0.417873</td>\n",
       "      <td>0.319219</td>\n",
       "      <td>-1.601676</td>\n",
       "      <td>-0.355852</td>\n",
       "      <td>0.949776</td>\n",
       "      <td>1.321055</td>\n",
       "      <td>-0.466218</td>\n",
       "      <td>0.004641</td>\n",
       "      <td>0.215164</td>\n",
       "      <td>-0.124897</td>\n",
       "      <td>-0.929571</td>\n",
       "      <td>1.170636</td>\n",
       "      <td>0.056090</td>\n",
       "      <td>-0.360790</td>\n",
       "      <td>0.269138</td>\n",
       "      <td>0.275971</td>\n",
       "      <td>0.366157</td>\n",
       "      <td>-1.051488</td>\n",
       "      <td>1.146172</td>\n",
       "      <td>0.017928</td>\n",
       "      <td>0.211027</td>\n",
       "      <td>-0.204595</td>\n",
       "      <td>-0.298356</td>\n",
       "      <td>0.128604</td>\n",
       "      <td>0.003427</td>\n",
       "      <td>-0.257919</td>\n",
       "      <td>-0.298293</td>\n",
       "      <td>0.097741</td>\n",
       "      <td>0.595202</td>\n",
       "      <td>0.044233</td>\n",
       "      <td>-0.204897</td>\n",
       "      <td>0.153748</td>\n",
       "      <td>-0.073673</td>\n",
       "      <td>0.057116</td>\n",
       "    </tr>\n",
       "    <tr>\n",
       "      <td>3354</td>\n",
       "      <td>-8.593283</td>\n",
       "      <td>17.335740</td>\n",
       "      <td>-10.253766</td>\n",
       "      <td>-3.075604</td>\n",
       "      <td>3.936105</td>\n",
       "      <td>-0.428898</td>\n",
       "      <td>-0.303729</td>\n",
       "      <td>1.079620</td>\n",
       "      <td>-1.451576</td>\n",
       "      <td>0.401471</td>\n",
       "      <td>2.079772</td>\n",
       "      <td>-0.448212</td>\n",
       "      <td>0.331674</td>\n",
       "      <td>-0.368228</td>\n",
       "      <td>-0.230561</td>\n",
       "      <td>-0.612628</td>\n",
       "      <td>0.269748</td>\n",
       "      <td>0.421770</td>\n",
       "      <td>1.235473</td>\n",
       "      <td>0.531933</td>\n",
       "      <td>-0.595122</td>\n",
       "      <td>0.423270</td>\n",
       "      <td>0.252607</td>\n",
       "      <td>-0.956349</td>\n",
       "      <td>0.562786</td>\n",
       "      <td>-0.073424</td>\n",
       "      <td>0.096601</td>\n",
       "      <td>-0.338526</td>\n",
       "      <td>0.637254</td>\n",
       "      <td>0.379037</td>\n",
       "      <td>0.194826</td>\n",
       "      <td>-0.340981</td>\n",
       "      <td>0.529198</td>\n",
       "      <td>0.383240</td>\n",
       "      <td>0.041427</td>\n",
       "      <td>0.063592</td>\n",
       "      <td>0.089547</td>\n",
       "      <td>0.006685</td>\n",
       "      <td>-0.084358</td>\n",
       "      <td>-0.078102</td>\n",
       "      <td>0.310691</td>\n",
       "      <td>0.102652</td>\n",
       "      <td>-0.137785</td>\n",
       "      <td>-0.001971</td>\n",
       "      <td>0.085886</td>\n",
       "    </tr>\n",
       "  </tbody>\n",
       "</table>\n",
       "<p>3355 rows × 45 columns</p>\n",
       "</div>"
      ],
      "text/plain": [
       "             0          1          2          3          4         5   \\\n",
       "0     -1.544289  -0.824992   2.843841  -2.544883   1.313584 -4.510989   \n",
       "1     -9.959137   2.312521  -5.690243  16.131003  -4.432750 -2.355228   \n",
       "2      2.638594  -1.888735   6.522407 -14.471979  -7.173325 -2.281573   \n",
       "3     28.545711  14.048909  -5.890521   8.691848  -2.105240 -2.068995   \n",
       "4     -2.263481  -8.139869  11.287388   4.394998 -12.202797  0.357330   \n",
       "...         ...        ...        ...        ...        ...       ...   \n",
       "3350 -14.219149  -6.974966   4.092569 -10.268049  -7.130547  0.910125   \n",
       "3351   0.552702  16.452711   0.200888   9.764205 -10.341630 -4.134721   \n",
       "3352  -9.193261   1.516230  13.556272   9.754312  -2.245289 -1.547189   \n",
       "3353 -14.002240  11.481141  10.546388  -5.651545  -2.751973 -1.785202   \n",
       "3354  -8.593283  17.335740 -10.253766  -3.075604   3.936105 -0.428898   \n",
       "\n",
       "            6         7         8         9         10        11        12  \\\n",
       "0     1.497924 -1.848113  2.373872 -0.227971 -1.036275 -0.539821 -0.364789   \n",
       "1    -0.752267 -2.927850 -0.955590  0.079541 -0.124049  0.271745 -0.429909   \n",
       "2     0.788575 -1.923893  1.651099 -0.561468 -0.534815  0.374968 -1.352893   \n",
       "3     1.128292 -0.324627 -0.761757 -0.789634  1.633669 -0.576225  1.355751   \n",
       "4    -2.664678  0.129632 -0.518654 -0.660244  0.053999 -0.402659  0.600631   \n",
       "...        ...       ...       ...       ...       ...       ...       ...   \n",
       "3350 -2.759280  1.676623 -1.895373  1.155819  1.379139 -0.230294 -1.285763   \n",
       "3351  1.136563  0.721318 -1.382320 -1.017498  0.900492 -0.738193  0.557065   \n",
       "3352  1.431038 -1.824192 -1.683107  1.508861 -0.261283  0.912092 -1.048901   \n",
       "3353 -1.588163 -0.468043 -0.513397 -0.286633 -0.127733  0.417873  0.319219   \n",
       "3354 -0.303729  1.079620 -1.451576  0.401471  2.079772 -0.448212  0.331674   \n",
       "\n",
       "            13        14        15        16        17        18        19  \\\n",
       "0    -0.873245  1.028270  0.284276  0.087572  0.058755  0.663960 -1.168575   \n",
       "1    -0.377660  0.436714  0.157337 -0.939837  0.660518  0.523079 -0.391293   \n",
       "2     0.309197 -0.471445  0.084420 -0.212422 -0.024082 -0.304529  0.294787   \n",
       "3    -0.549355  1.015349  2.146519 -0.432140 -0.589044 -0.127133  0.449501   \n",
       "4    -0.142732  1.218818  0.477372 -0.553137  0.146678  0.300462  0.316426   \n",
       "...        ...       ...       ...       ...       ...       ...       ...   \n",
       "3350 -1.476808  1.656284  0.186906  0.310823  0.439519  0.061619 -0.920984   \n",
       "3351  0.835136 -0.345809 -0.541694  0.097207  0.850524  0.717571  0.664224   \n",
       "3352  0.129092 -0.224621 -0.201628 -0.797789  0.618327  1.719758  1.389927   \n",
       "3353 -1.601676 -0.355852  0.949776  1.321055 -0.466218  0.004641  0.215164   \n",
       "3354 -0.368228 -0.230561 -0.612628  0.269748  0.421770  1.235473  0.531933   \n",
       "\n",
       "            20        21        22        23        24        25        26  \\\n",
       "0    -0.508609  0.590425 -0.746908 -0.419889  0.270636  0.157029 -0.098002   \n",
       "1     0.715742 -0.990164  0.508792 -0.129086  0.261061 -0.515424 -0.066966   \n",
       "2     1.086411 -0.627664  0.396498  0.138865 -0.196387 -0.535898  0.735128   \n",
       "3     0.197901 -0.624637 -0.059979  0.319716  0.766709 -0.512455  0.044984   \n",
       "4    -0.650139 -1.395237 -0.994617  0.009620 -0.861662 -0.113301  0.545113   \n",
       "...        ...       ...       ...       ...       ...       ...       ...   \n",
       "3350  0.296011  0.566233 -0.368864 -0.128431 -0.068481 -0.224142  0.179680   \n",
       "3351  0.485868  0.492898 -0.655621 -1.137240 -0.988206  0.344255 -0.367984   \n",
       "3352 -0.084604 -0.321313  0.942550  0.510260 -0.626927 -0.090412 -0.782680   \n",
       "3353 -0.124897 -0.929571  1.170636  0.056090 -0.360790  0.269138  0.275971   \n",
       "3354 -0.595122  0.423270  0.252607 -0.956349  0.562786 -0.073424  0.096601   \n",
       "\n",
       "            27        28        29        30        31        32        33  \\\n",
       "0     0.130397  0.328758  0.172485  0.265257  0.549017 -0.145111 -0.081533   \n",
       "1    -0.263788 -0.049874 -0.261616  0.103626 -0.282623 -0.308384 -0.085651   \n",
       "2     0.303894 -0.492485 -0.880517  0.149027 -0.199209  0.132673  0.216160   \n",
       "3     0.236501 -0.246336  0.225709 -0.063760  0.491743  0.171583 -0.360778   \n",
       "4    -0.169263 -0.667820 -0.386051  0.248706  0.907028  0.172684 -0.157176   \n",
       "...        ...       ...       ...       ...       ...       ...       ...   \n",
       "3350 -0.320702  0.290704 -0.189246 -0.444375  0.078101  0.115417  0.165679   \n",
       "3351  0.322410 -0.858273 -0.112213  0.554333 -0.157989  0.426943  0.323402   \n",
       "3352  0.023509  0.693986  0.383434  0.467984  0.247367 -0.362615  0.148680   \n",
       "3353  0.366157 -1.051488  1.146172  0.017928  0.211027 -0.204595 -0.298356   \n",
       "3354 -0.338526  0.637254  0.379037  0.194826 -0.340981  0.529198  0.383240   \n",
       "\n",
       "            34        35        36        37        38        39        40  \\\n",
       "0     0.217230 -0.029116 -0.072583 -0.152087 -0.228441 -0.159620 -0.102335   \n",
       "1    -0.398509  0.038522  0.362366 -0.057959 -0.335482 -0.068959 -0.203547   \n",
       "2    -0.168315 -0.335381 -0.156473  0.382928  0.102843 -0.201060 -0.040405   \n",
       "3     0.471259 -0.039643 -0.038446  0.086507  0.462486  0.176038  0.263410   \n",
       "4     0.146365 -0.297332 -0.010240 -0.572084  0.119394 -0.189261 -0.011453   \n",
       "...        ...       ...       ...       ...       ...       ...       ...   \n",
       "3350 -0.190984 -0.449885 -0.047568  0.199263  0.258690 -0.128616 -0.042459   \n",
       "3351 -0.179111 -0.329133 -0.249454 -0.249699 -0.027556  0.578510  0.179776   \n",
       "3352  0.450915  0.532167  0.193929  0.364556  0.152976 -0.733420 -0.198873   \n",
       "3353  0.128604  0.003427 -0.257919 -0.298293  0.097741  0.595202  0.044233   \n",
       "3354  0.041427  0.063592  0.089547  0.006685 -0.084358 -0.078102  0.310691   \n",
       "\n",
       "            41        42        43        44  \n",
       "0     0.130208 -0.020124 -0.176160  0.182580  \n",
       "1     0.167375 -0.059329 -0.043762  0.087622  \n",
       "2     0.226012 -0.006598  0.147990 -0.390312  \n",
       "3    -0.091008  0.009368  0.395739 -0.456148  \n",
       "4     0.246724  0.219450  0.428341  0.390695  \n",
       "...        ...       ...       ...       ...  \n",
       "3350 -0.317616 -0.092272  0.016799 -0.063783  \n",
       "3351  0.015193 -0.347475  0.069571  0.076207  \n",
       "3352  0.150332  0.631933 -0.337254 -0.633653  \n",
       "3353 -0.204897  0.153748 -0.073673  0.057116  \n",
       "3354  0.102652 -0.137785 -0.001971  0.085886  \n",
       "\n",
       "[3355 rows x 45 columns]"
      ]
     },
     "execution_count": 119,
     "metadata": {},
     "output_type": "execute_result"
    }
   ],
   "source": [
    "X_train_pca_df"
   ]
  },
  {
   "cell_type": "code",
   "execution_count": null,
   "metadata": {},
   "outputs": [],
   "source": []
  },
  {
   "cell_type": "code",
   "execution_count": null,
   "metadata": {},
   "outputs": [],
   "source": []
  },
  {
   "cell_type": "code",
   "execution_count": 120,
   "metadata": {},
   "outputs": [
    {
     "name": "stdout",
     "output_type": "stream",
     "text": [
      "cName \t PearSon Coree \t\t pvalue \n",
      "\n",
      "0 \t 19.476964092350325 \t 4.880761112687273e-30\n",
      "2 \t -7.23061337803006 \t 2.7642176841138013e-05\n",
      "3 \t -8.093504631002178 \t 2.680400243445476e-06\n",
      "6 \t 18.344086737234452 \t 8.903178851827968e-27\n",
      "7 \t -34.57372734458168 \t 8.127118222939264e-95\n",
      "9 \t 31.093072670774436 \t 4.1256359312919345e-76\n",
      "10 \t -11.316131364364846 \t 4.9228326474586266e-11\n",
      "11 \t -29.876905090696603 \t 3.8452100198525876e-70\n",
      "12 \t 11.941213753789302 \t 3.951765431751376e-12\n",
      "13 \t -16.01185789527532 \t 1.0462584386715168e-20\n",
      "14 \t 3.753159593419725 \t 0.029714564513471254\n",
      "15 \t 14.896204879766747 \t 4.192208847501762e-18\n",
      "16 \t -33.09368859024604 \t 1.4586659568641882e-86\n",
      "17 \t 6.316464929693377 \t 0.000251293339807451\n",
      "19 \t 3.9411050761613495 \t 0.02244113003210641\n",
      "20 \t 6.758007268382246 \t 8.950261964474766e-05\n",
      "21 \t 6.2876699816973876 \t 0.0002682082203906298\n",
      "22 \t 6.440725822601645 \t 0.00018913248021543312\n",
      "24 \t -3.980860703617737 \t 0.021118272734975706\n",
      "25 \t 4.482145780419756 \t 0.009417832369759061\n",
      "32 \t -8.973959252684681 \t 1.9243630728448252e-07\n",
      "\n",
      " No of PCAs Highly Correlate with Target Veriable: ==>: 21 Outof_Available PCAs 45\n"
     ]
    }
   ],
   "source": [
    "columns = []\n",
    "print (\"cName\",\"\\t\", \"PearSon Coree\",\"\\t\\t\", \"pvalue\",\"\\n\")\n",
    "for col in X_train_pca_df.columns:\n",
    "    corre, pvalue = stats.pearsonr(X_train_pca_df[col], y_train)\n",
    "    \n",
    "    if (pvalue < 0.03):\n",
    "        print (col,\"\\t\", corre*100,\"\\t\", pvalue)\n",
    "        columns.append(col)\n",
    "print(\"\\n No of PCAs Highly Correlate with Target Veriable: ==>:\", len(columns), \"Outof_Available PCAs\",X_train_pca_df.shape[1])"
   ]
  },
  {
   "cell_type": "code",
   "execution_count": 121,
   "metadata": {},
   "outputs": [],
   "source": [
    "X_train_pca_df_final = X_train_pca_df[columns]\n",
    "X_test_pca_df_final = X_test_pca_df[columns]"
   ]
  },
  {
   "cell_type": "code",
   "execution_count": 122,
   "metadata": {},
   "outputs": [],
   "source": [
    "mMS = MinMaxScaler()"
   ]
  },
  {
   "cell_type": "code",
   "execution_count": 123,
   "metadata": {},
   "outputs": [],
   "source": [
    "for col in X_test_pca_df_final.columns:\n",
    "    X_train_pca_df_final[col] = mMS.fit_transform(np.array(X_train_pca_df_final[col]).reshape(-1,1))\n",
    "    X_test_pca_df_final[col] = mMS.transform(np.array(X_test_pca_df_final[col]).reshape(-1,1))"
   ]
  },
  {
   "cell_type": "code",
   "execution_count": null,
   "metadata": {},
   "outputs": [],
   "source": []
  },
  {
   "cell_type": "code",
   "execution_count": 124,
   "metadata": {},
   "outputs": [],
   "source": [
    "def model_Execute(xtrain, xtest, ytrain, ytest, model):\n",
    "    obj = model\n",
    "    obj.fit(xtrain, ytrain)\n",
    "    y_predict = obj.predict(xtest)\n",
    "    y_predict_train = obj.predict(xtrain)\n",
    "    \n",
    "    test_r2_score = r2_score(ytest, y_predict)\n",
    "    train_r2_score = r2_score(ytrain, y_predict_train)\n",
    "    print(str(obj).split(\"(\")[0])\n",
    "    print(\"Train Accuracy(R2 Score): ===========>\", train_r2_score)\n",
    "    print(\"Test Accuracuy(R2 Score): ===========>\", test_r2_score)\n",
    "    print(\"MeanSquareError: ====================>\", mean_squared_error(ytest, y_predict))\n",
    "    print(\"RootMeanSquareError: ================>\", np.sqrt(mean_squared_error(ytest, y_predict)), \"\\n\")"
   ]
  },
  {
   "cell_type": "code",
   "execution_count": 125,
   "metadata": {},
   "outputs": [],
   "source": [
    "models = {\n",
    "    'lr': LinearRegression(),\n",
    "    'dt': DecisionTreeRegressor(),\n",
    "    'rf': RandomForestRegressor(),\n",
    "    'agb': AdaBoostRegressor(),\n",
    "    'gbr': GradientBoostingRegressor()\n",
    "}"
   ]
  },
  {
   "cell_type": "code",
   "execution_count": 126,
   "metadata": {},
   "outputs": [
    {
     "name": "stdout",
     "output_type": "stream",
     "text": [
      "LinearRegression\n",
      "Train Accuracy(R2 Score): ===========> 0.604518511440505\n",
      "Test Accuracuy(R2 Score): ===========> 0.6337437388455567\n",
      "MeanSquareError: ====================> 0.005347807288918421\n",
      "RootMeanSquareError: ================> 0.07312870359112365 \n",
      "\n",
      "DecisionTreeRegressor\n",
      "Train Accuracy(R2 Score): ===========> 0.9775554769646672\n",
      "Test Accuracuy(R2 Score): ===========> 0.3255619071883816\n",
      "MeanSquareError: ====================> 0.009847654036803773\n",
      "RootMeanSquareError: ================> 0.0992353467107551 \n",
      "\n",
      "RandomForestRegressor\n",
      "Train Accuracy(R2 Score): ===========> 0.9226489846390744\n",
      "Test Accuracuy(R2 Score): ===========> 0.6058184152382553\n",
      "MeanSquareError: ====================> 0.005755552534451733\n",
      "RootMeanSquareError: ================> 0.07586535793398547 \n",
      "\n",
      "AdaBoostRegressor\n",
      "Train Accuracy(R2 Score): ===========> 0.23599047916621552\n",
      "Test Accuracuy(R2 Score): ===========> 0.20378845689679248\n",
      "MeanSquareError: ====================> 0.011625701306257816\n",
      "RootMeanSquareError: ================> 0.10782254544508683 \n",
      "\n",
      "GradientBoostingRegressor\n",
      "Train Accuracy(R2 Score): ===========> 0.6984425112472966\n",
      "Test Accuracuy(R2 Score): ===========> 0.6192918631514881\n",
      "MeanSquareError: ====================> 0.0055588230567627074\n",
      "RootMeanSquareError: ================> 0.07455751509246206 \n",
      "\n"
     ]
    }
   ],
   "source": [
    "for mName, Model in models.items():\n",
    "    model_Execute(X_train_pca_df_final, X_test_pca_df_final, y_train, y_test, Model)"
   ]
  },
  {
   "cell_type": "code",
   "execution_count": null,
   "metadata": {},
   "outputs": [],
   "source": []
  },
  {
   "cell_type": "markdown",
   "metadata": {},
   "source": [
    "## Linear Regression Model"
   ]
  },
  {
   "cell_type": "code",
   "execution_count": 29,
   "metadata": {},
   "outputs": [
    {
     "data": {
      "text/plain": [
       "LinearRegression(copy_X=True, fit_intercept=True, n_jobs=None, normalize=False)"
      ]
     },
     "execution_count": 29,
     "metadata": {},
     "output_type": "execute_result"
    }
   ],
   "source": [
    "linRig = LinearRegression()\n",
    "linRig.fit(X_train_pca_df_final, y_train)"
   ]
  },
  {
   "cell_type": "code",
   "execution_count": 30,
   "metadata": {},
   "outputs": [
    {
     "name": "stdout",
     "output_type": "stream",
     "text": [
      "Train Accuracy(R2 Score): ===========> 0.6060800238253873 \n",
      "\n",
      "Test Accuracuy(R2 Score): ===========> 0.6365124683216239 \n",
      "\n",
      "MeanSquareError: ====================> 0.005307380316758313 \n",
      "\n",
      "RootMeanSquareError: ================> 0.07285176948268526\n"
     ]
    }
   ],
   "source": [
    "y_predict_linRig = linRig.predict(X_test_pca_df_final)\n",
    "\n",
    "print(\"Train Accuracy(R2 Score): ===========>\", linRig.score(X_train_pca_df_final, y_train), \"\\n\")\n",
    "print(\"Test Accuracuy(R2 Score): ===========>\", linRig.score(X_test_pca_df_final, y_test), \"\\n\")\n",
    "\n",
    "print(\"MeanSquareError: ====================>\", mean_squared_error(y_test, y_predict_linRig), \"\\n\")\n",
    "print(\"RootMeanSquareError: ================>\", np.sqrt(mean_squared_error(y_test, y_predict_linRig)))"
   ]
  },
  {
   "cell_type": "markdown",
   "metadata": {},
   "source": [
    "## HyperParameter"
   ]
  },
  {
   "cell_type": "code",
   "execution_count": 174,
   "metadata": {},
   "outputs": [],
   "source": [
    "adbR = AdaBoostRegressor(base_estimator=DecisionTreeRegressor(), random_state=2020)"
   ]
  },
  {
   "cell_type": "code",
   "execution_count": 178,
   "metadata": {},
   "outputs": [],
   "source": [
    "adbR_params = {\n",
    "    'n_estimators': np.arange(5, 200, 5),\n",
    "    'learning_rate': np.linspace(0.0001, 1, 15),\n",
    "    'loss': ['linear', 'square', 'exponential'],\n",
    "    \"base_estimator__criterion\" : [\"friedman_mse\", \"mse\"],\n",
    "    \"base_estimator__min_samples_split\": np.arange(1, 20, 1),\n",
    "    \"base_estimator__min_samples_leaf\": np.arange(1, 20, 1),\n",
    "    \"base_estimator__max_depth\" : np.arange(1, 20, 1)\n",
    "}"
   ]
  },
  {
   "cell_type": "code",
   "execution_count": null,
   "metadata": {},
   "outputs": [],
   "source": []
  },
  {
   "cell_type": "code",
   "execution_count": 179,
   "metadata": {},
   "outputs": [],
   "source": [
    "rsCV = RandomizedSearchCV(estimator=adbR, param_distributions=adbR_params, scoring='r2', n_jobs=-1, n_iter=200)"
   ]
  },
  {
   "cell_type": "code",
   "execution_count": 180,
   "metadata": {},
   "outputs": [
    {
     "data": {
      "text/plain": [
       "RandomizedSearchCV(cv=None, error_score=nan,\n",
       "                   estimator=AdaBoostRegressor(base_estimator=DecisionTreeRegressor(ccp_alpha=0.0,\n",
       "                                                                                    criterion='mse',\n",
       "                                                                                    max_depth=None,\n",
       "                                                                                    max_features=None,\n",
       "                                                                                    max_leaf_nodes=None,\n",
       "                                                                                    min_impurity_decrease=0.0,\n",
       "                                                                                    min_impurity_split=None,\n",
       "                                                                                    min_samples_leaf=1,\n",
       "                                                                                    min_samples_split=2,\n",
       "                                                                                    min_weight_fraction_leaf=0.0,\n",
       "                                                                                    presort='deprecated',\n",
       "                                                                                    random_state=None,\n",
       "                                                                                    sp...\n",
       "       8.57157143e-01, 9.28578571e-01, 1.00000000e+00]),\n",
       "                                        'loss': ['linear', 'square',\n",
       "                                                 'exponential'],\n",
       "                                        'n_estimators': array([  5,  10,  15,  20,  25,  30,  35,  40,  45,  50,  55,  60,  65,\n",
       "        70,  75,  80,  85,  90,  95, 100, 105, 110, 115, 120, 125, 130,\n",
       "       135, 140, 145, 150, 155, 160, 165, 170, 175, 180, 185, 190, 195])},\n",
       "                   pre_dispatch='2*n_jobs', random_state=None, refit=True,\n",
       "                   return_train_score=False, scoring='r2', verbose=0)"
      ]
     },
     "execution_count": 180,
     "metadata": {},
     "output_type": "execute_result"
    }
   ],
   "source": [
    "rsCV.fit(X_train_pca_df_final, y_train)"
   ]
  },
  {
   "cell_type": "code",
   "execution_count": null,
   "metadata": {},
   "outputs": [],
   "source": []
  },
  {
   "cell_type": "code",
   "execution_count": 185,
   "metadata": {},
   "outputs": [],
   "source": [
    "best_model = rsCV.best_estimator_"
   ]
  },
  {
   "cell_type": "code",
   "execution_count": 186,
   "metadata": {},
   "outputs": [
    {
     "data": {
      "text/plain": [
       "AdaBoostRegressor(base_estimator=DecisionTreeRegressor(ccp_alpha=0.0,\n",
       "                                                       criterion='mse',\n",
       "                                                       max_depth=11,\n",
       "                                                       max_features=None,\n",
       "                                                       max_leaf_nodes=None,\n",
       "                                                       min_impurity_decrease=0.0,\n",
       "                                                       min_impurity_split=None,\n",
       "                                                       min_samples_leaf=6,\n",
       "                                                       min_samples_split=7,\n",
       "                                                       min_weight_fraction_leaf=0.0,\n",
       "                                                       presort='deprecated',\n",
       "                                                       random_state=None,\n",
       "                                                       splitter='best'),\n",
       "                  learning_rate=0.07152142857142857, loss='square',\n",
       "                  n_estimators=110, random_state=2020)"
      ]
     },
     "execution_count": 186,
     "metadata": {},
     "output_type": "execute_result"
    }
   ],
   "source": [
    "best_model.fit(X_train_pca_df_final, y_train)"
   ]
  },
  {
   "cell_type": "code",
   "execution_count": 187,
   "metadata": {},
   "outputs": [
    {
     "name": "stdout",
     "output_type": "stream",
     "text": [
      "AdaBoostRegressor\n",
      "Train Accuracy(R2 Score): ===========> 0.8350195249592972\n",
      "Test Accuracuy(R2 Score): ===========> 0.6253974406515722\n",
      "MeanSquareError: ====================> 0.005469673858998583\n",
      "RootMeanSquareError: ================> 0.07395724345186604 \n",
      "\n"
     ]
    }
   ],
   "source": [
    "model_Execute(X_train_pca_df_final, X_test_pca_df_final, y_train, y_test, best_model)"
   ]
  },
  {
   "cell_type": "code",
   "execution_count": null,
   "metadata": {},
   "outputs": [],
   "source": []
  },
  {
   "cell_type": "code",
   "execution_count": null,
   "metadata": {},
   "outputs": [],
   "source": []
  },
  {
   "cell_type": "markdown",
   "metadata": {},
   "source": [
    "## Ensemble_Boosting ===> [GradientBoostingRegressor Model]"
   ]
  },
  {
   "cell_type": "code",
   "execution_count": 49,
   "metadata": {},
   "outputs": [
    {
     "data": {
      "text/plain": [
       "GradientBoostingRegressor(alpha=0.9, criterion='friedman_mse', init=None,\n",
       "                          learning_rate=0.1, loss='ls', max_depth=3,\n",
       "                          max_features=None, max_leaf_nodes=None,\n",
       "                          min_impurity_decrease=0.0, min_impurity_split=None,\n",
       "                          min_samples_leaf=1, min_samples_split=2,\n",
       "                          min_weight_fraction_leaf=0.0, n_estimators=100,\n",
       "                          n_iter_no_change=None, presort='auto',\n",
       "                          random_state=None, subsample=1.0, tol=0.0001,\n",
       "                          validation_fraction=0.1, verbose=0, warm_start=False)"
      ]
     },
     "execution_count": 49,
     "metadata": {},
     "output_type": "execute_result"
    }
   ],
   "source": [
    "gbR = GradientBoostingRegressor()\n",
    "gbR.fit(X_train_pca_df_final, y_train)"
   ]
  },
  {
   "cell_type": "code",
   "execution_count": 51,
   "metadata": {},
   "outputs": [
    {
     "name": "stdout",
     "output_type": "stream",
     "text": [
      "Train Accuracy(R2 Score): ===========> 0.6975576486786084 \n",
      "\n",
      "Test Accuracuy(R2 Score): ===========> 0.6201671823812012 \n",
      "\n",
      "MeanSquareError: ====================> 0.005546042282607379 \n",
      "\n",
      "RootMeanSquareError: ================> 0.07447175493170131\n"
     ]
    }
   ],
   "source": [
    "y_predict_gbR = gbR.predict(X_test_pca_df_final)\n",
    "\n",
    "\n",
    "# initially overfitted after tunning R2 = 0.52\n",
    "\n",
    "print(\"Train Accuracy(R2 Score): ===========>\", gbR.score(X_train_pca_df_final, y_train), \"\\n\")\n",
    "print(\"Test Accuracuy(R2 Score): ===========>\", gbR.score(X_test_pca_df_final, y_test), \"\\n\")\n",
    "\n",
    "print(\"MeanSquareError: ====================>\", mean_squared_error(y_test, y_predict_gbR), \"\\n\")\n",
    "print(\"RootMeanSquareError: ================>\", np.sqrt(mean_squared_error(y_test, y_predict_gbR)))"
   ]
  },
  {
   "cell_type": "code",
   "execution_count": null,
   "metadata": {},
   "outputs": [],
   "source": []
  },
  {
   "cell_type": "markdown",
   "metadata": {},
   "source": [
    "## Before Hyper ParameterTuning"
   ]
  },
  {
   "cell_type": "code",
   "execution_count": 57,
   "metadata": {},
   "outputs": [],
   "source": [
    "gbR = GradientBoostingRegressor()"
   ]
  },
  {
   "cell_type": "code",
   "execution_count": 59,
   "metadata": {},
   "outputs": [],
   "source": [
    "score = make_scorer(r2_score)"
   ]
  },
  {
   "cell_type": "code",
   "execution_count": 62,
   "metadata": {},
   "outputs": [],
   "source": [
    "gbCV = cross_val_score(gbR, cv=5, X=X_train_pca_df_final, y=y_train, scoring=score)"
   ]
  },
  {
   "cell_type": "code",
   "execution_count": 63,
   "metadata": {},
   "outputs": [
    {
     "data": {
      "text/plain": [
       "0.5837844259827183"
      ]
     },
     "execution_count": 63,
     "metadata": {},
     "output_type": "execute_result"
    }
   ],
   "source": [
    "gbCV.mean()"
   ]
  },
  {
   "cell_type": "code",
   "execution_count": 64,
   "metadata": {},
   "outputs": [
    {
     "data": {
      "text/plain": [
       "GradientBoostingRegressor(alpha=0.9, criterion='friedman_mse', init=None,\n",
       "                          learning_rate=0.1, loss='ls', max_depth=3,\n",
       "                          max_features=None, max_leaf_nodes=None,\n",
       "                          min_impurity_decrease=0.0, min_impurity_split=None,\n",
       "                          min_samples_leaf=1, min_samples_split=2,\n",
       "                          min_weight_fraction_leaf=0.0, n_estimators=100,\n",
       "                          n_iter_no_change=None, presort='auto',\n",
       "                          random_state=None, subsample=1.0, tol=0.0001,\n",
       "                          validation_fraction=0.1, verbose=0, warm_start=False)"
      ]
     },
     "execution_count": 64,
     "metadata": {},
     "output_type": "execute_result"
    }
   ],
   "source": [
    "gbR.fit(X_train_pca_df_final, y_train)"
   ]
  },
  {
   "cell_type": "code",
   "execution_count": 65,
   "metadata": {},
   "outputs": [],
   "source": [
    "train_pre = gbR.predict(X_train_pca_df_final)"
   ]
  },
  {
   "cell_type": "code",
   "execution_count": 66,
   "metadata": {},
   "outputs": [],
   "source": [
    "test_pre = gbR.predict(X_test_pca_df_final)"
   ]
  },
  {
   "cell_type": "code",
   "execution_count": 67,
   "metadata": {},
   "outputs": [
    {
     "data": {
      "text/plain": [
       "0.6975576486786087"
      ]
     },
     "execution_count": 67,
     "metadata": {},
     "output_type": "execute_result"
    }
   ],
   "source": [
    "r2_score(y_train, train_pre)"
   ]
  },
  {
   "cell_type": "code",
   "execution_count": 68,
   "metadata": {},
   "outputs": [
    {
     "data": {
      "text/plain": [
       "0.620308424106651"
      ]
     },
     "execution_count": 68,
     "metadata": {},
     "output_type": "execute_result"
    }
   ],
   "source": [
    "r2_score(y_test, test_pre)"
   ]
  },
  {
   "cell_type": "code",
   "execution_count": null,
   "metadata": {},
   "outputs": [],
   "source": []
  },
  {
   "cell_type": "markdown",
   "metadata": {},
   "source": [
    "## After HyperParameter Tuning"
   ]
  },
  {
   "cell_type": "code",
   "execution_count": 74,
   "metadata": {},
   "outputs": [],
   "source": [
    "gbR_hyp = GradientBoostingRegressor(random_state=42)"
   ]
  },
  {
   "cell_type": "code",
   "execution_count": 75,
   "metadata": {},
   "outputs": [],
   "source": [
    "gbr_params = {\n",
    "    'learning_rate': [0.001, 0.01, 0.1],\n",
    "    'loss': ['ls', 'lad', 'huber'],\n",
    "    'max_depth': [2, 3, 4, 5],\n",
    "    'min_samples_leaf': np.arange(1, 8),\n",
    "    'n_estimators': [5, 10, 15, 20],\n",
    "    'tol': [0.0001, 0.001, 0.01, 0.1]\n",
    "}\n",
    "\n",
    "score = make_scorer(r2_score)"
   ]
  },
  {
   "cell_type": "code",
   "execution_count": 76,
   "metadata": {},
   "outputs": [],
   "source": [
    "gbr_rsCV = RandomizedSearchCV(gbR_hyp, param_distributions=gbr_params, scoring=score, random_state=42)"
   ]
  },
  {
   "cell_type": "code",
   "execution_count": 77,
   "metadata": {},
   "outputs": [
    {
     "data": {
      "text/plain": [
       "RandomizedSearchCV(cv=None, error_score=nan,\n",
       "                   estimator=GradientBoostingRegressor(alpha=0.9, ccp_alpha=0.0,\n",
       "                                                       criterion='friedman_mse',\n",
       "                                                       init=None,\n",
       "                                                       learning_rate=0.1,\n",
       "                                                       loss='ls', max_depth=3,\n",
       "                                                       max_features=None,\n",
       "                                                       max_leaf_nodes=None,\n",
       "                                                       min_impurity_decrease=0.0,\n",
       "                                                       min_impurity_split=None,\n",
       "                                                       min_samples_leaf=1,\n",
       "                                                       min_samples_split=2,\n",
       "                                                       min_weight_fraction_leaf=0.0,\n",
       "                                                       n_estimators=100...\n",
       "                   iid='deprecated', n_iter=10, n_jobs=None,\n",
       "                   param_distributions={'learning_rate': [0.001, 0.01, 0.1],\n",
       "                                        'loss': ['ls', 'lad', 'huber'],\n",
       "                                        'max_depth': [2, 3, 4, 5],\n",
       "                                        'min_samples_leaf': array([1, 2, 3, 4, 5, 6, 7]),\n",
       "                                        'n_estimators': [5, 10, 15, 20],\n",
       "                                        'tol': [0.0001, 0.001, 0.01, 0.1]},\n",
       "                   pre_dispatch='2*n_jobs', random_state=42, refit=True,\n",
       "                   return_train_score=False, scoring=make_scorer(r2_score),\n",
       "                   verbose=0)"
      ]
     },
     "execution_count": 77,
     "metadata": {},
     "output_type": "execute_result"
    }
   ],
   "source": [
    "gbr_rsCV.fit(X_train_pca_df_final, y_train)"
   ]
  },
  {
   "cell_type": "code",
   "execution_count": 78,
   "metadata": {},
   "outputs": [],
   "source": [
    "gbr_hyp_best = gbr_rsCV.best_estimator_"
   ]
  },
  {
   "cell_type": "code",
   "execution_count": null,
   "metadata": {},
   "outputs": [],
   "source": [
    "gbr_hyp_best.bes"
   ]
  },
  {
   "cell_type": "code",
   "execution_count": 79,
   "metadata": {},
   "outputs": [
    {
     "data": {
      "text/plain": [
       "GradientBoostingRegressor(alpha=0.9, ccp_alpha=0.0, criterion='friedman_mse',\n",
       "                          init=None, learning_rate=0.1, loss='huber',\n",
       "                          max_depth=3, max_features=None, max_leaf_nodes=None,\n",
       "                          min_impurity_decrease=0.0, min_impurity_split=None,\n",
       "                          min_samples_leaf=5, min_samples_split=2,\n",
       "                          min_weight_fraction_leaf=0.0, n_estimators=20,\n",
       "                          n_iter_no_change=None, presort='deprecated',\n",
       "                          random_state=42, subsample=1.0, tol=0.0001,\n",
       "                          validation_fraction=0.1, verbose=0, warm_start=False)"
      ]
     },
     "execution_count": 79,
     "metadata": {},
     "output_type": "execute_result"
    }
   ],
   "source": [
    "gbr_hyp_best.fit(X_train_pca_df_final, y_train)"
   ]
  },
  {
   "cell_type": "code",
   "execution_count": 181,
   "metadata": {},
   "outputs": [],
   "source": [
    "gbrcv_scores = cross_val_score(gbr_hyp_best, X=X_train_pca_df_final, y=y_train, scoring='r2')"
   ]
  },
  {
   "cell_type": "code",
   "execution_count": 91,
   "metadata": {},
   "outputs": [
    {
     "data": {
      "text/plain": [
       "0.5221947029942126"
      ]
     },
     "execution_count": 91,
     "metadata": {},
     "output_type": "execute_result"
    }
   ],
   "source": [
    "gbrcv_scores.mean()"
   ]
  },
  {
   "cell_type": "code",
   "execution_count": 92,
   "metadata": {},
   "outputs": [
    {
     "data": {
      "text/plain": [
       "0.5429821082581806"
      ]
     },
     "execution_count": 92,
     "metadata": {},
     "output_type": "execute_result"
    }
   ],
   "source": [
    "gbr_hyp_best.score(X_train_pca_df_final, y_train)"
   ]
  },
  {
   "cell_type": "code",
   "execution_count": 93,
   "metadata": {},
   "outputs": [
    {
     "data": {
      "text/plain": [
       "0.5755589693025854"
      ]
     },
     "execution_count": 93,
     "metadata": {},
     "output_type": "execute_result"
    }
   ],
   "source": [
    "gbr_hyp_best.score(X_test_pca_df_final, y_test)"
   ]
  },
  {
   "cell_type": "code",
   "execution_count": null,
   "metadata": {},
   "outputs": [],
   "source": []
  },
  {
   "cell_type": "code",
   "execution_count": null,
   "metadata": {},
   "outputs": [],
   "source": []
  },
  {
   "cell_type": "code",
   "execution_count": 60,
   "metadata": {},
   "outputs": [
    {
     "data": {
      "text/plain": [
       "0.5564674384727663"
      ]
     },
     "execution_count": 60,
     "metadata": {},
     "output_type": "execute_result"
    }
   ],
   "source": [
    "svrR = SVR(kernel='poly', degree=3, C=2, gamma=0.5)\n",
    "svrR.fit(X_train_pca_df_final, y_train)\n",
    "svrR.score(X_test_pca_df_final, y_test)"
   ]
  },
  {
   "cell_type": "code",
   "execution_count": 61,
   "metadata": {},
   "outputs": [
    {
     "name": "stdout",
     "output_type": "stream",
     "text": [
      "Train Accuracy(R2 Score): ===========> 0.6114062164632249 \n",
      "\n",
      "Test Accuracuy(R2 Score): ===========> 0.5564674384727663 \n",
      "\n",
      "MeanSquareError: ====================> 0.006476139569414218 \n",
      "\n",
      "RootMeanSquareError: ================> 0.08047446532543237\n"
     ]
    }
   ],
   "source": [
    "y_predict_svrR = svrR.predict(X_test_pca_df_final)\n",
    "\n",
    "\n",
    "# initially overfitted after tunning R2 = 0.52\n",
    "\n",
    "print(\"Train Accuracy(R2 Score): ===========>\", svrR.score(X_train_pca_df_final, y_train), \"\\n\")\n",
    "print(\"Test Accuracuy(R2 Score): ===========>\", svrR.score(X_test_pca_df_final, y_test), \"\\n\")\n",
    "\n",
    "print(\"MeanSquareError: ====================>\", mean_squared_error(y_test, y_predict_svrR), \"\\n\")\n",
    "print(\"RootMeanSquareError: ================>\", np.sqrt(mean_squared_error(y_test, y_predict_svrR)))"
   ]
  },
  {
   "cell_type": "code",
   "execution_count": null,
   "metadata": {},
   "outputs": [],
   "source": []
  },
  {
   "cell_type": "code",
   "execution_count": 62,
   "metadata": {},
   "outputs": [],
   "source": [
    "models = {\n",
    "           'LR': LinearRegression(), \n",
    "          'DTR': DecisionTreeRegressor(), \n",
    "          'RFS': RandomForestRegressor(), \n",
    "          'ADB': AdaBoostRegressor()\n",
    "         }"
   ]
  },
  {
   "cell_type": "code",
   "execution_count": 63,
   "metadata": {},
   "outputs": [
    {
     "name": "stdout",
     "output_type": "stream",
     "text": [
      "\n",
      "\n",
      "\n",
      "LR Model TrainAcc: ====>0.6112955965847053 TestAccuracy          : ====>0.6404050652958228\n",
      "LR Model R2 Score: ====>0.6404050652958228 Model MeanSquare Error: ====>0.005250543449571858\n",
      "\n",
      "\n",
      "\n",
      "DTR Model TrainAcc: ====>0.977555457783147 TestAccuracy          : ====>0.2622579467356776\n",
      "DTR Model R2 Score: ====>0.2622579467356776 Model MeanSquare Error: ====>0.01077197238172244\n",
      "\n",
      "\n",
      "\n",
      "RFS Model TrainAcc: ====>0.9222606060810147 TestAccuracy          : ====>0.613283547745761\n",
      "RFS Model R2 Score: ====>0.613283547745761 Model MeanSquare Error: ====>0.005646552104232339\n",
      "\n",
      "\n",
      "\n",
      "ADB Model TrainAcc: ====>0.2648100213796104 TestAccuracy          : ====>0.23480173084074052\n",
      "ADB Model R2 Score: ====>0.23480173084074052 Model MeanSquare Error: ====>0.011172868057952657\n"
     ]
    }
   ],
   "source": [
    "for mName, model in models.items():\n",
    "    obj = models[mName]\n",
    "    obj.fit(X_train_pca_df, y_train)\n",
    "    y_predict = obj.predict(X_test_pca_df)\n",
    "    \n",
    "    train_acc = obj.score(X_train_pca_df, y_train)\n",
    "    test_acc =  obj.score(X_test_pca_df, y_test)\n",
    "    \n",
    "    R2Square = r2_score(y_test, y_predict)\n",
    "    MSquareE = mean_squared_error(y_test, y_predict)\n",
    "    \n",
    "    print(\"\\n\\n\")\n",
    "    print(\"{} Model TrainAcc: ====>{} TestAccuracy          : ====>{}\".format(mName, train_acc, test_acc))\n",
    "    print(\"{} Model R2 Score: ====>{} Model MeanSquare Error: ====>{}\".format(mName, R2Square, MSquareE))"
   ]
  },
  {
   "cell_type": "code",
   "execution_count": null,
   "metadata": {},
   "outputs": [],
   "source": []
  },
  {
   "cell_type": "code",
   "execution_count": null,
   "metadata": {},
   "outputs": [],
   "source": []
  }
 ],
 "metadata": {
  "kernelspec": {
   "display_name": "Python 3",
   "language": "python",
   "name": "python3"
  },
  "language_info": {
   "codemirror_mode": {
    "name": "ipython",
    "version": 3
   },
   "file_extension": ".py",
   "mimetype": "text/x-python",
   "name": "python",
   "nbconvert_exporter": "python",
   "pygments_lexer": "ipython3",
   "version": "3.7.4"
  }
 },
 "nbformat": 4,
 "nbformat_minor": 2
}
